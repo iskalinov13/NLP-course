{
  "nbformat": 4,
  "nbformat_minor": 0,
  "metadata": {
    "colab": {
      "name": "NLP-LAB1.ipynb",
      "provenance": [],
      "authorship_tag": "ABX9TyPaM8Gr/Oq+vikB7vth8fwD",
      "include_colab_link": true
    },
    "kernelspec": {
      "name": "python3",
      "display_name": "Python 3"
    },
    "language_info": {
      "name": "python"
    }
  },
  "cells": [
    {
      "cell_type": "markdown",
      "metadata": {
        "id": "view-in-github",
        "colab_type": "text"
      },
      "source": [
        "<a href=\"https://colab.research.google.com/github/iskalinov13/NLP-course/blob/main/NLP_LAB1.ipynb\" target=\"_parent\"><img src=\"https://colab.research.google.com/assets/colab-badge.svg\" alt=\"Open In Colab\"/></a>"
      ]
    },
    {
      "cell_type": "code",
      "execution_count": 6,
      "metadata": {
        "colab": {
          "base_uri": "https://localhost:8080/"
        },
        "id": "CUZsBAS3bg2b",
        "outputId": "83e1075b-e636-4496-8dd5-82602954efea"
      },
      "outputs": [
        {
          "output_type": "stream",
          "name": "stdout",
          "text": [
            "['build', 'built']\n"
          ]
        }
      ],
      "source": [
        "import re\n",
        "\n",
        "#1 Find “build” and “built” words in the sentence “I know how to build the system where the programs are built”\n",
        "\n",
        "result1 = re.findall(r'buil[dt]', 'I know how to build the system where the programs are built')\n",
        "print (result1)\n"
      ]
    },
    {
      "cell_type": "code",
      "source": [
        "#2 Find “dogs”, “dags”, “dugs”, “cats” in the sentence “I saw how dogs, dags, dugs and cats where running”\n",
        "\n",
        "result2 = re.findall(r'(d[oau]gs|cats)', 'I saw how dogs, dags, dugs and cats where running')\n",
        "print (result2)"
      ],
      "metadata": {
        "colab": {
          "base_uri": "https://localhost:8080/"
        },
        "id": "AwA_JKwWdsAV",
        "outputId": "e602c921-7fa6-480b-8662-ed48734f3b27"
      },
      "execution_count": 7,
      "outputs": [
        {
          "output_type": "stream",
          "name": "stdout",
          "text": [
            "['dogs', 'dags', 'dugs', 'cats']\n"
          ]
        }
      ]
    },
    {
      "cell_type": "code",
      "source": [
        "#3 Choose the following year 2004, 2008, 2012, 2016 from the list\n",
        "# 1990, 1991, 1992, 1993, 1994, 1995, 1996, 1997, 1998, 1999, 2000, \n",
        "# 2001, 2002, 2003, 2004, 2005, 2006, 2007, 2008, 2009, 2010, 2011, \n",
        "# 2012, 2013, 2014, 2015, 2016, 2017\n",
        "\n",
        "result3 = re.findall(r'(200[48]|201[26])', '1990, 1991, 1992, 1993, 1994, 1995, 1996, 1997, 1998, 1999, 2000, 2001, 2002, 2003, 2004, 2005, 2006, 2007, 2008, 2009, 2010, 2011, 2012, 2013, 2014, 2015, 2016, 2017')\n",
        "print (result3)"
      ],
      "metadata": {
        "colab": {
          "base_uri": "https://localhost:8080/"
        },
        "id": "6PpBD-jTeBBm",
        "outputId": "d612efc3-c48d-45e4-b9be-6aad722ed38e"
      },
      "execution_count": 13,
      "outputs": [
        {
          "output_type": "stream",
          "name": "stdout",
          "text": [
            "['2004', '2008', '2012', '2016']\n"
          ]
        }
      ]
    }
  ]
}