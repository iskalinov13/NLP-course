{
  "cells": [
    {
      "cell_type": "markdown",
      "metadata": {
        "id": "view-in-github",
        "colab_type": "text"
      },
      "source": [
        "<a href=\"https://colab.research.google.com/github/iskalinov13/NLP-course/blob/main/LAB_3_NLP.ipynb\" target=\"_parent\"><img src=\"https://colab.research.google.com/assets/colab-badge.svg\" alt=\"Open In Colab\"/></a>"
      ]
    },
    {
      "cell_type": "markdown",
      "id": "6f8965d6",
      "metadata": {
        "id": "6f8965d6"
      },
      "source": [
        "### Getting the Data"
      ]
    },
    {
      "cell_type": "markdown",
      "id": "dbf73d65",
      "metadata": {
        "id": "dbf73d65"
      },
      "source": [
        "We have a csv file from the Donald Trump's twitter in the same folder as our notebook"
      ]
    },
    {
      "cell_type": "code",
      "execution_count": null,
      "id": "4785abd3",
      "metadata": {
        "id": "4785abd3"
      },
      "outputs": [],
      "source": [
        "# Task 3\n",
        "# 1. Load text of Abay's words of edification\n",
        "# 2. Create 3 and 4-grams model\n",
        "# 3. Show frequent word's combinations\n",
        "# 4. Visualize the word's combinations"
      ]
    },
    {
      "cell_type": "code",
      "execution_count": 2,
      "id": "eee2e6be",
      "metadata": {
        "colab": {
          "base_uri": "https://localhost:8080/"
        },
        "id": "eee2e6be",
        "outputId": "17ac059f-ad8a-4b15-cc8b-99a21d64e246"
      },
      "outputs": [
        {
          "output_type": "stream",
          "name": "stdout",
          "text": [
            "Mounted at /drive\n"
          ]
        }
      ],
      "source": [
        "import pandas as pd\n",
        "from google.colab import drive\n",
        "drive.mount(\"/drive\") \n"
      ]
    },
    {
      "cell_type": "code",
      "source": [
        "df = pd.read_csv('/drive/My Drive/Colab Notebooks/tweets.csv')\n",
        "df['text'].head(5)"
      ],
      "metadata": {
        "colab": {
          "base_uri": "https://localhost:8080/"
        },
        "id": "AwWUxwHtMxnG",
        "outputId": "de19a51d-6a1a-482d-e792-a9bda0d90f50"
      },
      "id": "AwWUxwHtMxnG",
      "execution_count": 3,
      "outputs": [
        {
          "output_type": "execute_result",
          "data": {
            "text/plain": [
              "0                       LOSER! https://t.co/p5imhMJqS1\n",
              "1    Most of the money raised by the RINO losers of...\n",
              "2    ....because they don’t know how to win and the...\n",
              "3    ....lost for Evan “McMuffin” McMullin (to me)....\n",
              "4    ....get even for all of their many failures. Y...\n",
              "Name: text, dtype: object"
            ]
          },
          "metadata": {},
          "execution_count": 3
        }
      ]
    },
    {
      "cell_type": "code",
      "source": [
        "# 1. Load text of Abay's words of edification\n",
        "df_abai = pd.read_fwf('/drive/My Drive/Colab Notebooks/Abai.txt', delimiter = '\\r')\n",
        "df_abai = df_abai.values.tolist()\n",
        "df_abai[:20]"
      ],
      "metadata": {
        "colab": {
          "base_uri": "https://localhost:8080/"
        },
        "id": "K3du3_LiOejm",
        "outputId": "d8edc921-3f95-4ecb-8f42-65224891a0e0"
      },
      "id": "K3du3_LiOejm",
      "execution_count": 87,
      "outputs": [
        {
          "output_type": "execute_result",
          "data": {
            "text/plain": [
              "[['Бұл жасқа келгенше жақсы өткіздік пе, жаман өткіздік пе, әйтеуір бірталай өмірімізді өткіздік: алыстық, жұлыстық, айтыстық, тартыстық - әурешілікті көре-көре келдік. Енді жер ортасы жасқа келдік: қажыдық, жалықтық; қылып жүрген ісіміздің баянсызын, байлаусызын көрдік, бәрі қоршылық екенін білдік. Ал, енді қалған өмірімізді қайтіп, не қылып өткіземіз? Соны таба алмай өзім де қайранмын.'],\n",
              " ['Ел бағу? Жоқ, елге бағым жоқ. Бағусыз дертке ұшырайын деген кісі бақпаса, не албыртқан, көңілі басылмаған жастар бағамын демесе, бізді құдай сақтасын!'],\n",
              " ['Мал бағу? Жоқ, баға алмаймын. Балалар өздеріне керегінше өздері бағар. Енді қартайғанда қызығын өзің түгел көре алмайтұғын, ұры, залым, тілемсектердің азығын бағып беремін деп, қалған аз ғана өмірімді қор қылар жайым жоқ.'],\n",
              " ['Ғылым бағу? Жоқ, ғылым бағарға да ғылым сөзін сөйлесер адам жоқ. Білгеніңді кімге үйретерсің, білмегеніңді кімнен сұрарсың? Елсіз-күнсізде кездемені жайып салып, қолына кезін алып отырғанның не пайдасы бар? Мұңдасып шер тарқатысар кісі болмаған соң, ғылым өзі - бір тез қартайтатұғын күйік.'],\n",
              " ['Софылық қылып, дін бағу? Жоқ, ол да болмайды, оған да тыныштық керек. Не көңілде, не көрген күніңде бір тыныштық жоқ, осы елге, осы жерде не қылған софылық?'],\n",
              " ['Балаларды бағу? Жоқ, баға алмаймын. Бағар едім, қалайша бағудың мәнісін де білмеймін, не болсын деп бағам, қай елге қосайын, қай харекетке қосайын? Балаларымның өзіне ілгері өмірінің, білімінің пайдасын тыныштықпенен керерлік орын тапқаным жоқ, қайда бар, не қыл дерімді біле алмай отырмын, не бол деп бағам? Оны да ермек қыла алмадым.'],\n",
              " ['Ақыры ойладым: осы ойыма келген нәрселерді қағазға жаза берейін, ақ қағаз бен қара сияны ермек қылайын, кімде-кім ішінен керекті сөз тапса, жазып алсын, я оқысын, керегі жоқ десе, өз сөзім өзімдікі дедім де, ақыры осыған байладым, енді мұнан басқа ешбір жұмысым жоқ.'],\n",
              " ['Екінші сөз'],\n",
              " ['Мен бала күнімде естуші едім, біздің қазақ сартты көрсе, күлуші еді «енеңді ұрайын, кең қолтық, шүлдіреген тәжік, Арқадан үй төбесіне саламын деп, қамыс артқан, бұтадан қорыққан, көз көргенде «әке-үке» десіп, шығып кетсе, қызын боқтасқан, «сарт-сұрт деген осы» деп. Ноғайды көрсе, оны да боқтап күлуші еді: «түйеден қорыққан ноғай, атқа мінсе - шаршап, жаяу жүрсе - демін алады, ноғай дегенше, ноқай десеңші, түкке ыңғайы келмейді, солдат ноғай, қашқын ноғай, башалшік ноғай» деп. Орысқа да күлуші еді: «ауылды көрсе шапқан, жаман сасыр бас орыс» деп.'],\n",
              " ['Орыс ойына келгенін қылады деген... не айтса соған нанады, «ұзын құлақты тауып бер депті» деп.'],\n",
              " ['Сонда мен ойлаушы едім: ей, құдай-ай, бізден басқа халықтың бәрі антұрған, жаман келеді екен, ең тәуір халық біз екенбіз деп, әлгі айтылмыш сөздерді бір үлкен қызық көріп, қуанып күлуші едім.'],\n",
              " ['Енді қарап тұрсам, сарттың екпеген егіні жоқ, шығармаған жемісі жоқ, саудагерінің жүрмеген жері жоқ, қылмаған шеберлігі жоқ. Өзіменен өзі әуре болып, біріменен бірі ешбір шаһары жауласпайды! Орысқа қарамай тұрғанда қазақтың өлісінің ахиреттігін, тірісінің киімін сол жеткізіп тұрды. Әке балаға қимайтұғын малыңды кірелеп сол айдап кетіп тұрды ғой. Орысқа қараған соң да, орыстың өнерлерін бізден олар көп үйреніп кетті. Үлкен байлар да, үлкен молдалар да, ептілік, қырмызылық, сыпайылық - бәрі соларда. Ноғайға қарасам, солдаттыққа да шыдайды, кедейлікке де шыдайды, қазаға да шыдайды, молда, медресе сақтап, дін күтуге де шыдайды. Еңбек қылып, мал табудың да жөнін солар біледі, салтанат, әсем де соларда. Оның малдыларына, құзғын тамағымыз үшін, біріміз жалшы, біріміз қош алушымыз. Біздің ең байымызды: «сәнің шақшы аяғың білән пышыратырға қойған идән түгіл, шық, сасық казақ», - деп үйінен қуып шығарады. Оның бәрі - бірін-бірі қуып қор болмай, шаруа қуып, өнер тауып, мал тауып, зор болғандық әсері. Орысқа айтар сөз де жоқ, біз құлы, күңі құрлы да жоқпыз. Бағанағы мақтан, бағанағы қуанған, күлген сөздеріміз қайда?'],\n",
              " ['Үшінші сөз'],\n",
              " ['Қазақтың бірінің біріне қаскүнем болмағының, бірінің тілеуін бірі тілеспейтұғынының, рас сөзі аз болатұғынының, қызметке таласқыш болатұғынының, өздерінің жалқау болатұғынының себебі не? Һәмма ғаламға белгілі данышпандар әлдеқашан байқаған: әрбір жалқау кісі қорқақ, қайратсыз тартады; әрбір қайратсыз қорқақ, мақтаншақ келеді; әрбір мақтаншақ қорқақ, ақылсыз, надан келеді; әрбір ақылсыз надан, арсыз келеді; әрбір арсыз жалқаудан сұрамсақ, өзі тойымсыз, өнерсіз, ешкімге достығы жоқ жандар шығады.'],\n",
              " ['Мұның бәрі төрт аяқты малды көбейтеміннен басқа ойының жоқтығынан, өзге егін, сауда, өнер, ғылым - солар секілді нәрселерге салынса, бұлай болмас еді. Әрбір мал іздеген малым көп болса, өзімдікі де, балаларым да малды болса екен дейді. Ол мал көбейсе, малшыларға бақтырмақ, өздері етке, қымызға тойып, сұлуды жайлап, жүйрікті байлап отырмақ. Қыстауы тарлық қылса, арызы жеткендік, сыйы өткендік, байлық қызметінен біреудің қыстауын сатып алмақ, ептеп алмақ, тартып алмақ. Ол қыстауынан айырылған және біреуге тиіспек, я болмаса орынсыздығынан елден кетпек - әр қазақтың ойы осы.'],\n",
              " ['Осылар біріне бірі достық ойлай ала ма? Кедей көп болса, ақысы кем болар еді, малдан айырылғандар көбейсе, қыстауы босар еді деп, мен ананы кедей болса екен деп, ол мені кедей болса екен деп, әуелде ішімізбен қас сағындық. Әрі-беріден соң сыртымызға шықты, жауластық, дауластық, партияластық. Осындай қастарға сөзім өтімді болсын және де ептеп мал жиюға күшім жетімді болсын деп, қызметке болыстық, билікке таластық. Сонан соң не момынның баласы бөтен жаққа шығып, еңбек қылып, мал іздемейді, егін, сауданың керегі жоқ болады. Өз басын өзі осындай таласпенен кісі көбейтеміз деп партия жиғандардың бүгін біреуіне, ертең біреуіне кезекпен сатады да жүреді. Ұрылар тыйылмайды. Ел тыныш болса, оның ұрлығын ешкім сүйемес еді. Ел екі жар болған соң, кім ант ішіп ақтап, арамдығын жақтап, сүйеймін десе, соған жақ болып сүйеніп, бұрынғыдан ұрлығын әлденеше есе асырады.'],\n",
              " ['Елдегі жақсы адамдардың бәрінің үстінен бекер, өтірік «шапты, талады» деген әртүрлі уголовный іс көрсетіп, арыз береді. Оған дознание - тергеу шығарады. Өтірік көрмегенін көрдім деуші куәлар да әлдеқашан дайындап қойылған, бағанағы жақсы адам сайлауға жарамасы үшін. Ол адам басын құтқармақ үшін жамандарға жалынса, оның да адамдығының кеткені, егер жалынбаса, тергеулі, сотты адам болып, ешбір қызметке жарамай, басы қатерге түсіп өткені. Ол болыс болғандар өзі қулық, арамдықпенен болыстыққа жеткен соң, момынды қадірлемейді, өзіндей арам, қуларды қадірлейді, өзіме дос болып, жәрдемі тиеді деп, егер қас болса, бір түрлі өзіме де залал жасауға қолынан келеді деп.'],\n",
              " ['Осы күнде қазақ ішінде «ісі білмес, кісі білер» деген мақал шықты. Оның мәнісі: «ісіңнің түзулігінен жетпессің, кісіңнің амалшы, айлалылығынан жетерсің» деген сөз. Үш жылға болыс сайланады. Әуелгі жылы «Сені біз сайламадық па?» деп елдің бұлданғандығымен күні өтеді. Екінші жылы кандидатпенен аңдысып күні өтеді. Үшінші жылы сайлауға жақындап қалып, тағы болыс болып қалуға болар ма екен деп күні өтеді. Енді несі қалды? Осы қазақ халқының осындай бұзықшылыққа тартып, жылдан жылға төмендеп бара жатқанын көрген соң, менің ойыма келеді: Халықтың болыстыққа сайлаймын деген кісісі пәлен қадәрлі орысша образование алған кісі болсын. Егер де орталарында ондай кісісі жоқ болса, яки бар болса да сайламаса, уезный начальник пенен военный губернатордың назначениесімен болады десе, бұл халыққа бек пайдалы болар еді. Оның себебі: әуелі - қызметқұмар қазақ балаларына образование беруге ол да - пайдалы іс, екінші - назначениемен болған болыстар халыққа міндетті болмас еді, ұлықтарға міндетті болар еді.'],\n",
              " ['Уә және назначение қылғанда тергеуі, сұрауы барлығына қарамаса, өтірік арыз берушілер азаяр еді, бәлки жоғалар еді. Уә және әрбір болыс елде старшина басы бір би сайланғандық, бұл халыққа көп залал болғандығы көрініп, сыналып білінді. Бұл билік деген біздің қазақ ішінде әрбір сайланған кісінің қолынан келмейді. Бұған бұрынғы «Қасым ханның қасқа жолын, Есім ханның ескі жолын», Әз Тәуке ханның Күлтөбенің басындағы күнде кеңес болғанда «Жеті жарғысын» білмек керек. Әм, ол ескі сөздердің қайсысы заман өзгергендікпенен ескіріп, бұл жаңа заманға келіспейтұғын болса, оның орнына татымды толық билік шығарып, төлеу саларға жарарлық кісі болса керек еді, ондай кісі аз, яки тіпті жоқ.'],\n",
              " ['Бұрынғы қазақ жайын жақсы білген адамдар айтыпты: «Би екеу болса, дау төртеу болады» деп. Оның мәнісі - тақ болмаса, жұп билер таласып, дау көбейте береді дегенмен айтылған сөз. Өйтіп би көбейткенше, әрбір болыс елден толымды-білімді үш-ақ кісі билікке жыл кесілмей сайланса, олар түссе, жаманшылығы әшкере білінгендікпенен түссе, әйтпесе түспесе. Ол билерге даугер адамдар қалмай, екеуі екі кісіні билікке таңдап алып, үстіне біреуді посредникке сайлап алып, біте берсе; егер оған да ынтымақтаса алмаса, бағанағы үш бидің біреуін алып, яки жеребемен сайлап алып жүгінсе, сонда дау ұзамай, бітім болар еді.']]"
            ]
          },
          "metadata": {},
          "execution_count": 87
        }
      ]
    },
    {
      "cell_type": "code",
      "source": [
        "#2. Create 3 and 4-grams model\n",
        "import re\n",
        "import unicodedata\n",
        "import nltk\n",
        "from nltk.corpus import stopwords\n",
        "nltk.download('stopwords')\n",
        "nltk.download('wordnet')\n",
        "\n",
        "ADDITIONAL_STOPWORDS = ['де']\n",
        "\n",
        "import matplotlib.pyplot as plt"
      ],
      "metadata": {
        "colab": {
          "base_uri": "https://localhost:8080/"
        },
        "id": "cr2uNjaRltVI",
        "outputId": "9529b011-33dd-4901-9519-734b17dbdf03"
      },
      "id": "cr2uNjaRltVI",
      "execution_count": 17,
      "outputs": [
        {
          "output_type": "stream",
          "name": "stdout",
          "text": [
            "[nltk_data] Downloading package stopwords to /root/nltk_data...\n",
            "[nltk_data]   Package stopwords is already up-to-date!\n",
            "[nltk_data] Downloading package wordnet to /root/nltk_data...\n",
            "[nltk_data]   Package wordnet is already up-to-date!\n"
          ]
        }
      ]
    },
    {
      "cell_type": "code",
      "source": [
        "def basic_clean(text):\n",
        "    wnl = nltk.stem.WordNetLemmatizer()\n",
        "    stopwords = nltk.corpus.stopwords.words('kazakh') + ADDITIONAL_STOPWORDS\n",
        "    \n",
        "    text = text.lower()\n",
        "    words = re.sub(r'[^\\w\\s]', '', text).split()\n",
        "\n",
        "    return [wnl.lemmatize(word) for word in words if word not in stopwords]"
      ],
      "metadata": {
        "id": "tmeaB-YlmPT0"
      },
      "id": "tmeaB-YlmPT0",
      "execution_count": 82,
      "outputs": []
    },
    {
      "cell_type": "code",
      "source": [
        "# 3-gram model\n",
        "\n",
        "word = basic_clean(str(df_abai))\n",
        "word_abai = basic_clean(str(df_abai))\n",
        "n3_gram = pd.Series(nltk.ngrams(word_abai, 3))\n",
        "print(n3_gram)"
      ],
      "metadata": {
        "colab": {
          "base_uri": "https://localhost:8080/"
        },
        "id": "Pj1UhYCymn__",
        "outputId": "4069956b-b845-476d-dad4-fa46f9138def"
      },
      "id": "Pj1UhYCymn__",
      "execution_count": 90,
      "outputs": [
        {
          "output_type": "stream",
          "name": "stdout",
          "text": [
            "0                    (жасқа, келгенше, жақсы)\n",
            "1                 (келгенше, жақсы, өткіздік)\n",
            "2                       (жақсы, өткіздік, пе)\n",
            "3                       (өткіздік, пе, жаман)\n",
            "4                       (пе, жаман, өткіздік)\n",
            "                         ...                 \n",
            "13488     (ескі, патшалардыңсарқыты, кәсірәй)\n",
            "13489    (патшалардыңсарқыты, кәсірәй, ғажам)\n",
            "13490                 (кәсірәй, ғажам, жұрты)\n",
            "13491                (ғажам, жұрты, қазақтың)\n",
            "13492               (жұрты, қазақтың, амудар)\n",
            "Length: 13493, dtype: object\n"
          ]
        }
      ]
    },
    {
      "cell_type": "code",
      "source": [
        "#4-gram model\n",
        "\n",
        "n4_gram = pd.Series(nltk.ngrams(word, 4))\n",
        "print(n4_gram)"
      ],
      "metadata": {
        "colab": {
          "base_uri": "https://localhost:8080/"
        },
        "id": "F_sEa8CHvbO4",
        "outputId": "15d15c11-4d9a-4ff4-fc3c-0a4e0255b05c"
      },
      "id": "F_sEa8CHvbO4",
      "execution_count": 91,
      "outputs": [
        {
          "output_type": "stream",
          "name": "stdout",
          "text": [
            "0                    (жасқа, келгенше, жақсы, өткіздік)\n",
            "1                       (келгенше, жақсы, өткіздік, пе)\n",
            "2                          (жақсы, өткіздік, пе, жаман)\n",
            "3                       (өткіздік, пе, жаман, өткіздік)\n",
            "4                             (пе, жаман, өткіздік, пе)\n",
            "                              ...                      \n",
            "13487    (дүниедегі, ескі, патшалардыңсарқыты, кәсірәй)\n",
            "13488        (ескі, патшалардыңсарқыты, кәсірәй, ғажам)\n",
            "13489       (патшалардыңсарқыты, кәсірәй, ғажам, жұрты)\n",
            "13490                 (кәсірәй, ғажам, жұрты, қазақтың)\n",
            "13491                  (ғажам, жұрты, қазақтың, амудар)\n",
            "Length: 13492, dtype: object\n"
          ]
        }
      ]
    },
    {
      "cell_type": "code",
      "source": [
        "# 3. Show frequent word's combinations\n",
        "n3_gram.value_counts()[:20]"
      ],
      "metadata": {
        "colab": {
          "base_uri": "https://localhost:8080/"
        },
        "id": "R0Ar5ykQvqMS",
        "outputId": "35df9ce7-a90e-46b8-88ac-6a3725647013"
      },
      "id": "R0Ar5ykQvqMS",
      "execution_count": 92,
      "outputs": [
        {
          "output_type": "execute_result",
          "data": {
            "text/plain": [
              "(екеуі, қалай, таласады)               6\n",
              "(болар, ма, екен)                      4\n",
              "(бірімізді, біріміз, аңдып)            4\n",
              "(бірдей, болмайды, екі)                3\n",
              "(аз, ба, көп)                          3\n",
              "(болса, екен, деп)                     3\n",
              "(пайғамбарымыз, салаллаһу, ғалайһи)    3\n",
              "(еңбек, қылып, мал)                    3\n",
              "(да, неше, түрлі)                      3\n",
              "(болса, бағанағы, екі)                 3\n",
              "(не, ахиретке, не)                     3\n",
              "(ба, көп, пе)                          3\n",
              "(жә, олай, болса)                      3\n",
              "(тулап, кететұғын, әділет)             2\n",
              "(ләззат, алар, едік)                   2\n",
              "(жақсылыққа, елжіреп, еритұғын)        2\n",
              "(ақылы, кісіге, иман)                  2\n",
              "(елжіреп, еритұғын, жаманшылықтан)     2\n",
              "(кісіге, иман, парыз)                  2\n",
              "(еритұғын, жаманшылықтан, жиреніп)     2\n",
              "dtype: int64"
            ]
          },
          "metadata": {},
          "execution_count": 92
        }
      ]
    },
    {
      "cell_type": "code",
      "source": [
        "# 3. Show frequent word's combinations\n",
        "n4_gram.value_counts()[:20]"
      ],
      "metadata": {
        "colab": {
          "base_uri": "https://localhost:8080/"
        },
        "id": "yyF-BZ_owGdH",
        "outputId": "d85cbce6-6089-4e09-b9fe-754a82e96d21"
      },
      "id": "yyF-BZ_owGdH",
      "execution_count": 93,
      "outputs": [
        {
          "output_type": "execute_result",
          "data": {
            "text/plain": [
              "(аз, ба, көп, пе)                         3\n",
              "(үйде, тамағы, тоқ, жатқан)               2\n",
              "(тірлік, жұмсақ, төсекте, жылы)           2\n",
              "(төсекте, жылы, үйде, тамағы)             2\n",
              "(жылы, үйде, тамағы, тоқ)                 2\n",
              "(сені, бүйтіп, сүйеймін, деп)             2\n",
              "(жұрттың, қоры, болып, бірімізді)         2\n",
              "(тамағы, тоқ, жатқан, кісіге)             2\n",
              "(тоқ, жатқан, кісіге, төсексіз)           2\n",
              "(жатқан, кісіге, төсексіз, кедейдің)      2\n",
              "(кісіге, төсексіз, кедейдің, тоңып)       2\n",
              "(төсексіз, кедейдің, тоңып, жүрген)       2\n",
              "(кедейдің, тоңып, жүрген, киімсіздің)     2\n",
              "(тоңып, жүрген, киімсіздің, тамақсыз)     2\n",
              "(жүрген, киімсіздің, тамақсыз, аштың)     2\n",
              "(киімсіздің, тамақсыз, аштың, күйжәйі)    2\n",
              "(тамақсыз, аштың, күйжәйі, қандай)        2\n",
              "(аштың, күйжәйі, қандай, болып)           2\n",
              "(күйжәйі, қандай, болып, жатыр)           2\n",
              "(қандай, болып, жатыр, екен)              2\n",
              "dtype: int64"
            ]
          },
          "metadata": {},
          "execution_count": 93
        }
      ]
    },
    {
      "cell_type": "code",
      "source": [
        "# 4. Visualize the word's combinations\n",
        "bigrams_series = (pd.Series(nltk.ngrams(word, 3)).value_counts())[:12]\n",
        "bigrams_series.sort_values().plot.barh(color='blue', width=.9, figsize=(12, 8))"
      ],
      "metadata": {
        "colab": {
          "base_uri": "https://localhost:8080/",
          "height": 501
        },
        "id": "6TNYpozJwN_c",
        "outputId": "9a2b67eb-ed78-4f35-fc21-e2ce7d56d224"
      },
      "id": "6TNYpozJwN_c",
      "execution_count": 95,
      "outputs": [
        {
          "output_type": "execute_result",
          "data": {
            "text/plain": [
              "<matplotlib.axes._subplots.AxesSubplot at 0x7fc13a0a9c10>"
            ]
          },
          "metadata": {},
          "execution_count": 95
        },
        {
          "output_type": "display_data",
          "data": {
            "image/png": "[encoded data removed]",
            "text/plain": [
              "<Figure size 864x576 with 1 Axes>"
            ]
          },
          "metadata": {
            "needs_background": "light"
          }
        }
      ]
    }
  ],
  "metadata": {
    "kernelspec": {
      "display_name": "Python 3",
      "language": "python",
      "name": "python3"
    },
    "language_info": {
      "codemirror_mode": {
        "name": "ipython",
        "version": 3
      },
      "file_extension": ".py",
      "mimetype": "text/x-python",
      "name": "python",
      "nbconvert_exporter": "python",
      "pygments_lexer": "ipython3",
      "version": "3.8.5"
    },
    "colab": {
      "name": "LAB-3-NLP.ipynb",
      "provenance": [],
      "include_colab_link": true
    }
  },
  "nbformat": 4,
  "nbformat_minor": 5
}