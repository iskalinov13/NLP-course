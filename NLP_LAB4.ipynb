{
  "cells": [
    {
      "cell_type": "markdown",
      "metadata": {
        "id": "view-in-github",
        "colab_type": "text"
      },
      "source": [
        "<a href=\"https://colab.research.google.com/github/iskalinov13/NLP-course/blob/main/NLP_LAB4.ipynb\" target=\"_parent\"><img src=\"https://colab.research.google.com/assets/colab-badge.svg\" alt=\"Open In Colab\"/></a>"
      ]
    },
    {
      "cell_type": "code",
      "execution_count": 21,
      "metadata": {
        "id": "xijaTOH7v8eh"
      },
      "outputs": [],
      "source": [
        "# Task 4 \n",
        "# Use same treebank corpus\n",
        "# Tokenize text (word_tokenize)\n",
        "# apply pos_tag to above step that by using nltk.pos_tag(tokenize_text)\n",
        "\n",
        "import nltk, re, pprint\n",
        "import numpy as np\n",
        "import pandas as pd\n",
        "import requests\n",
        "import matplotlib.pyplot as plt\n",
        "import seaborn as sns\n",
        "import pprint, time\n",
        "import random\n",
        "from sklearn.model_selection import train_test_split\n",
        "from nltk.tokenize import word_tokenize\n",
        "import codecs"
      ]
    },
    {
      "cell_type": "code",
      "execution_count": 40,
      "metadata": {
        "colab": {
          "base_uri": "https://localhost:8080/"
        },
        "id": "JdutAMGhv8ei",
        "outputId": "a9eadcf7-77c8-4de1-b0c2-c2480c1f3d4e"
      },
      "outputs": [
        {
          "output_type": "stream",
          "name": "stdout",
          "text": [
            "[nltk_data] Downloading package treebank to /root/nltk_data...\n",
            "[nltk_data]   Package treebank is already up-to-date!\n"
          ]
        },
        {
          "output_type": "execute_result",
          "data": {
            "text/plain": [
              "True"
            ]
          },
          "metadata": {},
          "execution_count": 40
        }
      ],
      "source": [
        "# Use same treebank corpus\n",
        "nltk.download('treebank')"
      ]
    },
    {
      "cell_type": "code",
      "execution_count": 41,
      "metadata": {
        "colab": {
          "base_uri": "https://localhost:8080/"
        },
        "id": "cZFIbUtwv8ej",
        "outputId": "cfe73e1f-aebd-407d-d926-950997a05a85"
      },
      "outputs": [
        {
          "output_type": "execute_result",
          "data": {
            "text/plain": [
              "['There',\n",
              " 'is',\n",
              " 'a',\n",
              " 'growing',\n",
              " 'consensus',\n",
              " 'that',\n",
              " 'significant',\n",
              " ',',\n",
              " 'rapid',\n",
              " 'progress',\n",
              " 'can',\n",
              " 'be',\n",
              " 'made',\n",
              " 'in',\n",
              " 'both',\n",
              " 'text',\n",
              " 'understanding',\n",
              " 'and',\n",
              " 'spoken',\n",
              " 'language',\n",
              " 'understanding',\n",
              " 'by',\n",
              " 'investigating',\n",
              " 'those',\n",
              " 'phenomena',\n",
              " 'that',\n",
              " 'occur',\n",
              " 'most',\n",
              " 'centrally',\n",
              " 'in',\n",
              " 'naturally',\n",
              " 'occurring',\n",
              " 'unconstrained',\n",
              " 'materials',\n",
              " 'and',\n",
              " 'by',\n",
              " 'attempting',\n",
              " 'to',\n",
              " 'automatically',\n",
              " 'extract',\n",
              " 'information',\n",
              " 'about',\n",
              " 'language',\n",
              " 'from',\n",
              " 'very',\n",
              " 'large',\n",
              " 'corpora',\n",
              " '.']"
            ]
          },
          "metadata": {},
          "execution_count": 41
        }
      ],
      "source": [
        "# Tokenize text (word_tokenize)\n",
        "\n",
        "text =  \"There is a growing consensus that significant, rapid progress can be made in both text understanding and spoken language understanding by investigating those phenomena that occur most centrally in naturally occurring unconstrained materials and by attempting to automatically extract information about language from very large corpora.\"\n",
        "tokenized_text = word_tokenize(text)\n",
        "tokenized_text\n"
      ]
    },
    {
      "cell_type": "code",
      "execution_count": 43,
      "metadata": {
        "colab": {
          "base_uri": "https://localhost:8080/"
        },
        "id": "Z41rrCOtv8ej",
        "outputId": "0b6b226f-c67d-41fc-de8d-4dc8d265bfa6"
      },
      "outputs": [
        {
          "output_type": "stream",
          "name": "stdout",
          "text": [
            "[nltk_data] Downloading package averaged_perceptron_tagger to\n",
            "[nltk_data]     /root/nltk_data...\n",
            "[nltk_data]   Unzipping taggers/averaged_perceptron_tagger.zip.\n"
          ]
        },
        {
          "output_type": "execute_result",
          "data": {
            "text/plain": [
              "[('There', 'EX'),\n",
              " ('is', 'VBZ'),\n",
              " ('a', 'DT'),\n",
              " ('growing', 'VBG'),\n",
              " ('consensus', 'NN'),\n",
              " ('that', 'WDT'),\n",
              " ('significant', 'JJ'),\n",
              " (',', ','),\n",
              " ('rapid', 'JJ'),\n",
              " ('progress', 'NN'),\n",
              " ('can', 'MD'),\n",
              " ('be', 'VB'),\n",
              " ('made', 'VBN'),\n",
              " ('in', 'IN'),\n",
              " ('both', 'DT'),\n",
              " ('text', 'JJ'),\n",
              " ('understanding', 'NN'),\n",
              " ('and', 'CC'),\n",
              " ('spoken', 'JJ'),\n",
              " ('language', 'NN'),\n",
              " ('understanding', 'NN'),\n",
              " ('by', 'IN'),\n",
              " ('investigating', 'VBG'),\n",
              " ('those', 'DT'),\n",
              " ('phenomena', 'NNS'),\n",
              " ('that', 'WDT'),\n",
              " ('occur', 'VBP'),\n",
              " ('most', 'RBS'),\n",
              " ('centrally', 'RB'),\n",
              " ('in', 'IN'),\n",
              " ('naturally', 'RB'),\n",
              " ('occurring', 'VBG'),\n",
              " ('unconstrained', 'JJ'),\n",
              " ('materials', 'NNS'),\n",
              " ('and', 'CC'),\n",
              " ('by', 'IN'),\n",
              " ('attempting', 'VBG'),\n",
              " ('to', 'TO'),\n",
              " ('automatically', 'RB'),\n",
              " ('extract', 'VB'),\n",
              " ('information', 'NN'),\n",
              " ('about', 'IN'),\n",
              " ('language', 'NN'),\n",
              " ('from', 'IN'),\n",
              " ('very', 'RB'),\n",
              " ('large', 'JJ'),\n",
              " ('corpora', 'NN'),\n",
              " ('.', '.')]"
            ]
          },
          "metadata": {},
          "execution_count": 43
        }
      ],
      "source": [
        "nltk.download('averaged_perceptron_tagger')\n",
        "nltk.pos_tag(tokenized_text)"
      ]
    },
    {
      "cell_type": "code",
      "execution_count": null,
      "metadata": {
        "id": "F07HW4aiv8er"
      },
      "outputs": [],
      "source": [
        ""
      ]
    }
  ],
  "metadata": {
    "kernelspec": {
      "display_name": "Python 3",
      "language": "python",
      "name": "python3"
    },
    "language_info": {
      "codemirror_mode": {
        "name": "ipython",
        "version": 3
      },
      "file_extension": ".py",
      "mimetype": "text/x-python",
      "name": "python",
      "nbconvert_exporter": "python",
      "pygments_lexer": "ipython3",
      "version": "3.8.5"
    },
    "colab": {
      "name": "NLP_LAB4.ipynb",
      "provenance": [],
      "collapsed_sections": [],
      "include_colab_link": true
    }
  },
  "nbformat": 4,
  "nbformat_minor": 0
}